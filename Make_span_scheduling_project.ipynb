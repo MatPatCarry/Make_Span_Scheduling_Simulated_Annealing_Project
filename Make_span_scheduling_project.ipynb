{
 "cells": [
  {
   "cell_type": "code",
   "execution_count": 1,
   "metadata": {},
   "outputs": [],
   "source": [
    "import numpy as np\n",
    "import copy\n",
    "import matplotlib.patheffects as PathEffects"
   ]
  },
  {
   "cell_type": "code",
   "execution_count": 2,
   "metadata": {},
   "outputs": [],
   "source": [
    "number_of_machines = 3\n",
    "machines = [[] for _ in range(number_of_machines)]\n",
    "tasks = {'0': 2, '1': 3, '2': 5, '3': 5, '4': 3, '5': 2, '6' : 9, '7': 5, '8' : 2, '9' : 15, '10' : 2}\n",
    "tasks_gurobi = [2, 3, 5, 5, 3, 2, 9, 5, 2, 15, 2]\n",
    "tasks_gurobi.sort()"
   ]
  },
  {
   "cell_type": "code",
   "execution_count": 3,
   "metadata": {},
   "outputs": [],
   "source": [
    "def counting_current_objective_function_value(machines):\n",
    "\n",
    "    obj_func_value = 0\n",
    "\n",
    "    for machine in machines:\n",
    "        \n",
    "        completion_times_for_one_machine = 0\n",
    "        current_completion_time = 0\n",
    "\n",
    "        for task in machine:\n",
    "            current_completion_time += task\n",
    "            completion_times_for_one_machine += current_completion_time\n",
    "\n",
    "        obj_func_value += completion_times_for_one_machine\n",
    "\n",
    "    return obj_func_value"
   ]
  },
  {
   "cell_type": "code",
   "execution_count": 4,
   "metadata": {},
   "outputs": [],
   "source": [
    "from gurobipy import *"
   ]
  },
  {
   "cell_type": "code",
   "execution_count": 5,
   "metadata": {},
   "outputs": [
    {
     "name": "stdout",
     "output_type": "stream",
     "text": [
      "Restricted license - for non-production use only - expires 2023-10-25\n"
     ]
    }
   ],
   "source": [
    "m_s_s_p_o = Model('Make_span_scheduling_problem')"
   ]
  },
  {
   "cell_type": "code",
   "execution_count": 6,
   "metadata": {},
   "outputs": [],
   "source": [
    "matrix_of_variables = m_s_s_p_o.addMVar((number_of_machines, len(tasks_gurobi)), vtype=GRB.BINARY)"
   ]
  },
  {
   "cell_type": "code",
   "execution_count": 7,
   "metadata": {},
   "outputs": [],
   "source": [
    "total_of_completion_dates = []\n",
    "\n",
    "for id_row, row_of_variables in enumerate(matrix_of_variables):\n",
    "\n",
    "    current_sum = []\n",
    "    \n",
    "    for index, variable in enumerate(row_of_variables):\n",
    "\n",
    "      current_sum += [variable * tasks_gurobi[index]]\n",
    "      total_of_completion_dates += [sum(current_sum) * variable]"
   ]
  },
  {
   "cell_type": "code",
   "execution_count": 8,
   "metadata": {},
   "outputs": [
    {
     "name": "stdout",
     "output_type": "stream",
     "text": [
      "Gurobi Optimizer version 9.5.1 build v9.5.1rc2 (win64)\n",
      "Thread count: 4 physical cores, 8 logical processors, using up to 8 threads\n",
      "Optimize a model with 11 rows, 33 columns and 33 nonzeros\n",
      "Model fingerprint: 0xf9669faf\n",
      "Model has 198 quadratic objective terms\n",
      "Variable types: 0 continuous, 33 integer (33 binary)\n",
      "Coefficient statistics:\n",
      "  Matrix range     [1e+00, 1e+00]\n",
      "  Objective range  [0e+00, 0e+00]\n",
      "  QObjective range [4e+00, 3e+01]\n",
      "  Bounds range     [1e+00, 1e+00]\n",
      "  RHS range        [1e+00, 1e+00]\n",
      "Found heuristic solution: objective 208.0000000\n",
      "Presolve time: 0.00s\n",
      "Presolved: 176 rows, 198 columns, 528 nonzeros\n",
      "Variable types: 0 continuous, 198 integer (198 binary)\n",
      "\n",
      "Root relaxation: objective 5.300000e+01, 25 iterations, 0.00 seconds (0.00 work units)\n",
      "\n",
      "    Nodes    |    Current Node    |     Objective Bounds      |     Work\n",
      " Expl Unexpl |  Obj  Depth IntInf | Incumbent    BestBd   Gap | It/Node Time\n",
      "\n",
      "     0     0   53.00000    0   20  208.00000   53.00000  74.5%     -    0s\n",
      "H    0     0                      94.0000000   53.00000  43.6%     -    0s\n",
      "H    0     0                      92.0000000   53.00000  42.4%     -    0s\n",
      "     0     0   55.00000    0   29   92.00000   55.00000  40.2%     -    0s\n",
      "     0     0   59.00000    0   22   92.00000   59.00000  35.9%     -    0s\n",
      "     0     0   65.50000    0   32   92.00000   65.50000  28.8%     -    0s\n",
      "     0     0   68.31250    0   50   92.00000   68.31250  25.7%     -    0s\n",
      "     0     0   69.88889    0   56   92.00000   69.88889  24.0%     -    0s\n",
      "     0     0   70.20690    0   59   92.00000   70.20690  23.7%     -    0s\n",
      "     0     0   70.22727    0   63   92.00000   70.22727  23.7%     -    0s\n",
      "     0     0   76.95833    0   68   92.00000   76.95833  16.3%     -    0s\n",
      "     0     0   77.73214    0   73   92.00000   77.73214  15.5%     -    0s\n",
      "     0     0   79.39853    0   81   92.00000   79.39853  13.7%     -    0s\n",
      "     0     0   79.39853    0   81   92.00000   79.39853  13.7%     -    0s\n",
      "     0     0   79.39853    0   20   92.00000   79.39853  13.7%     -    0s\n",
      "     0     0   79.39853    0   41   92.00000   79.39853  13.7%     -    0s\n",
      "     0     0   79.39853    0   45   92.00000   79.39853  13.7%     -    0s\n",
      "     0     0   79.39853    0   61   92.00000   79.39853  13.7%     -    0s\n",
      "     0     0   79.39853    0   66   92.00000   79.39853  13.7%     -    0s\n",
      "     0     0   80.91158    0   86   92.00000   80.91158  12.1%     -    0s\n",
      "     0     0   80.91158    0   85   92.00000   80.91158  12.1%     -    0s\n",
      "     0     2   80.91158    0   84   92.00000   80.91158  12.1%     -    0s\n",
      "\n",
      "Cutting planes:\n",
      "  Gomory: 1\n",
      "  MIR: 6\n",
      "  Zero half: 10\n",
      "  RLT: 11\n",
      "  BQP: 53\n",
      "\n",
      "Explored 67 nodes (3247 simplex iterations) in 0.23 seconds (0.18 work units)\n",
      "Thread count was 8 (of 8 available processors)\n",
      "\n",
      "Solution count 5: 92 92 94 ... 208\n",
      "\n",
      "Optimal solution found (tolerance 1.00e-04)\n",
      "Best objective 9.200000000000e+01, best bound 9.200000000000e+01, gap 0.0000%\n"
     ]
    }
   ],
   "source": [
    "m_s_s_p_o.setObjective(sum(total_of_completion_dates), GRB.MINIMIZE)\n",
    "\n",
    "for j in range(len(tasks)):\n",
    "    column_constraint = m_s_s_p_o.addConstr(sum([var for var in matrix_of_variables[:, j]]) == 1)\n",
    "\n",
    "m_s_s_p_o.optimize()"
   ]
  },
  {
   "cell_type": "code",
   "execution_count": 9,
   "metadata": {},
   "outputs": [
    {
     "name": "stdout",
     "output_type": "stream",
     "text": [
      "Total of completion times: 92.0\n"
     ]
    }
   ],
   "source": [
    "print(f'Total of completion times: {m_s_s_p_o.objVal}')"
   ]
  },
  {
   "cell_type": "code",
   "execution_count": 10,
   "metadata": {},
   "outputs": [
    {
     "name": "stdout",
     "output_type": "stream",
     "text": [
      "\n",
      "Complexity:    2         2         2         2         3         3         5         5         5         9         15    \n",
      "1 MACHINE:  x1_1: 0   x1_2: 0   x1_3: 0   x1_4: 0   x1_5: 1   x1_6: 0   x1_7: 0   x1_8: 0   x1_9: 1   x1_10: 1   x1_11: 0  \n",
      "2 MACHINE:  x2_1: 1   x2_2: 0   x2_3: 0   x2_4: 1   x2_5: 0   x2_6: 1   x2_7: 0   x2_8: 0   x2_9: 0   x2_10: 0   x2_11: 1  \n",
      "3 MACHINE:  x3_1: 0   x3_2: 1   x3_3: 1   x3_4: 0   x3_5: 0   x3_6: 0   x3_7: 1   x3_8: 1   x3_9: 0   x3_10: 0   x3_11: 0  \n"
     ]
    }
   ],
   "source": [
    "cell = 1\n",
    "row = 1\n",
    "machine_tasks = '1 MACHINE: '\n",
    "\n",
    "for index, v in enumerate(m_s_s_p_o.getVars()):\n",
    "\n",
    "    if cell == len(tasks_gurobi) + 1 and index < number_of_machines * len(tasks_gurobi):\n",
    "        cell = 1\n",
    "        row += 1\n",
    "        machine_tasks += f'\\n{row} MACHINE: '\n",
    "\n",
    "    if index < number_of_machines * len(tasks_gurobi):\n",
    "        machine_tasks += f' x{row}_{cell}: {int(v.x)}  '\n",
    "\n",
    "    else:\n",
    "        print(f'{v.varName} {v.x}')\n",
    "\n",
    "    cell += 1\n",
    "\n",
    "start = \"\\nComplexity:\"\n",
    "for task in tasks_gurobi:\n",
    "    if task < 10:\n",
    "        start += \" \" * 4 + str(task) + \" \" * 5\n",
    "    else:\n",
    "        start += \" \" * 4 + str(task) + \" \" * 4\n",
    "\n",
    "print(start)\n",
    "print(machine_tasks)"
   ]
  },
  {
   "cell_type": "code",
   "execution_count": 11,
   "metadata": {},
   "outputs": [],
   "source": [
    "def generating_starting_solution(machines, tasks):\n",
    "\n",
    "    order_of_tasks = [[] for _ in range(len(machines))]\n",
    "\n",
    "    for order, task in tasks.items():\n",
    "        chosen_machine_number = np.random.randint(1, len(machines) + 1)\n",
    "        machines[chosen_machine_number - 1] += [task]\n",
    "        order_of_tasks[chosen_machine_number - 1] += [order]\n",
    "\n",
    "    return order_of_tasks, machines"
   ]
  },
  {
   "cell_type": "code",
   "execution_count": 12,
   "metadata": {},
   "outputs": [
    {
     "name": "stdout",
     "output_type": "stream",
     "text": [
      "[[], ['1', '2', '6', '7', '8', '9'], ['0', '3', '4', '5', '10']]\n",
      "[[], [3, 5, 9, 5, 2, 15], [2, 5, 3, 2, 2]]\n",
      "158\n"
     ]
    }
   ],
   "source": [
    "np.random.seed(69420)\n",
    "order, starting_solution = generating_starting_solution(machines, tasks)\n",
    "starting_objective_function_value = counting_current_objective_function_value(starting_solution)\n",
    "print(order)\n",
    "print(starting_solution)\n",
    "print(starting_objective_function_value)"
   ]
  },
  {
   "cell_type": "code",
   "execution_count": 13,
   "metadata": {},
   "outputs": [],
   "source": [
    "%matplotlib inline"
   ]
  },
  {
   "cell_type": "code",
   "execution_count": 14,
   "metadata": {},
   "outputs": [],
   "source": [
    "import matplotlib.pyplot as plt\n",
    "\n",
    "def make_span_visualization(job_ending_times_result, order_result, number_of_iterations, fig, ax, camera):\n",
    "\n",
    "    colors = {'0': '#DC143C', '1': '#FFD700', '2':'#8A2BE2', '3':'#00FF00', '4':'#40E0D0', '5':'#FFA07A', '6':'#7B68EE', '7':'#006400', '8':'#B0E0E6', '9':'#DEB887', '10':'#D3D3D3',\n",
    "                '11':'#DAF7A6', '12':'#FFA500', '13':'#FF1493'}\n",
    "\n",
    "    bar_style = {'alpha': 1, 'lw':100, 'markeredgecolor':'black', 'markerfacecolor' :'black', 'markeredgewidth' : 3, 'solid_capstyle':'butt', 'solid_joinstyle' : 'miter'}\n",
    "    bar_style_shadow = {'alpha': 0.85, 'lw':107, 'markeredgecolor':'black', 'markerfacecolor' :'black', 'markeredgewidth' : 3, 'solid_capstyle':'butt', 'solid_joinstyle' : 'miter'}\n",
    "    # path_effects = [PathEffects.Stroke(linewidth=44, foreground='black'), PathEffects.Normal()]\n",
    "\n",
    "    starting_index_color = 0\n",
    "\n",
    "    for index, (machine, order_machine) in enumerate(zip(job_ending_times_result, order_result)):\n",
    "\n",
    "        if len(machine) == 0:\n",
    "            continue\n",
    "\n",
    "        colors_for_machine = []\n",
    "\n",
    "        for order in order_machine:\n",
    "\n",
    "            colors_for_machine += [colors[order]]\n",
    "        \n",
    "        for indx, (task, order) in enumerate (zip(machine, order_machine)):\n",
    "\n",
    "            if indx == 0:\n",
    "\n",
    "                if int(order) < 10:\n",
    "                    text_x_cordinate =  sum([0, task]) / 2 - 0.34\n",
    "\n",
    "                else:\n",
    "                    text_x_cordinate = sum([0, task]) / 2 - 0.74\n",
    "\n",
    "                x_cordinates = [0 + 0.03, task - 0.045]\n",
    "                x_cordinates_shadow = [-0.06, task]\n",
    "            \n",
    "            else:\n",
    "\n",
    "                if int(order) < 10:\n",
    "                    text_x_cordinate = (machine[indx] + machine[indx - 1]) / 2 - 0.34\n",
    "\n",
    "                else:\n",
    "                    text_x_cordinate = (machine[indx] + machine[indx - 1]) / 2 - 0.74\n",
    "\n",
    "                x_cordinates = [machine[indx - 1] + 0.045, machine[indx] - 0.045]\n",
    "                x_cordinates_shadow = [machine[indx - 1], machine[indx]]\n",
    "                \n",
    "            if indx == len(machine) - 1:\n",
    "                x_cordinates_shadow = [machine[indx - 1], machine[indx] + 0.045]\n",
    "\n",
    "            if indx == 0 and indx == len(machine) - 1:\n",
    "                x_cordinates_shadow = [-0.06, task + 0.03]\n",
    "\n",
    "            ax.plot(x_cordinates_shadow, [index] * 2, color='black', **bar_style_shadow)\n",
    "            ax.plot(x_cordinates, [index] * 2, color=colors_for_machine[indx], **bar_style)\n",
    "\n",
    "            text = ax.text(text_x_cordinate, index - 0.06, order, fontsize=40, color='white')\n",
    "            text.set_path_effects([PathEffects.withStroke(linewidth=5, foreground='black')])\n",
    "        \n",
    "        starting_index_color += len(order_machine)\n",
    "\n",
    "        \n",
    "    max_time = lambda machines: sum([max(machine) for machine in machines])\n",
    "\n",
    "    ax.set_ylim(-0.5, len(job_ending_times_result) - 0.5)\n",
    "    ax.set_xticks(np.arange(max_time(job_ending_times_result) + 1))\n",
    "    ax.set_title('Simulated annealing', fontsize=30)\n",
    "    ax.set_xlabel('Starting and ending times', fontsize=20)\n",
    "    ax.set_yticks(np.arange(0, len(job_ending_times_result)))\n",
    "    ax.set_yticklabels(['1 machine', '2 machine', '3 machine'])\n",
    "    ax.tick_params(labelsize=20)\n",
    "    ax.grid(True)\n",
    "\n",
    "    plt.tight_layout()\n",
    "    plt.draw()\n",
    "\n",
    "    camera.snap()\n",
    "\n",
    "    # plt.savefig(f'test4/photo{number_of_iterations}.jpg')   \n",
    "    "
   ]
  },
  {
   "cell_type": "code",
   "execution_count": 15,
   "metadata": {},
   "outputs": [],
   "source": [
    "np.random.seed(42)"
   ]
  },
  {
   "cell_type": "code",
   "execution_count": 16,
   "metadata": {},
   "outputs": [],
   "source": [
    "def job_ending_times(solution_result):\n",
    "\n",
    "    ending_times = [[] for _ in range(len(solution_result))]\n",
    "\n",
    "    for index, (machine, machine_times) in enumerate(zip(solution_result, ending_times)):\n",
    "\n",
    "        current_ending_time = 0\n",
    "\n",
    "        for job in machine:\n",
    "            \n",
    "            current_ending_time += job\n",
    "            ending_times[index] += [current_ending_time]\n",
    "\n",
    "    return ending_times"
   ]
  },
  {
   "cell_type": "code",
   "execution_count": 17,
   "metadata": {},
   "outputs": [],
   "source": [
    "from celluloid import Camera  # ....... conda install celluloid\n",
    "from IPython.display import HTML"
   ]
  },
  {
   "cell_type": "code",
   "execution_count": 18,
   "metadata": {},
   "outputs": [],
   "source": [
    "def generating_new_solution(starting_solution, order,  starting_obj_func_val, *, T, alpha, epochs, stages, max_iterations_without_improvement, number_of_tasks, boundary_T=0.01):\n",
    "\n",
    "    objective_function_values = []\n",
    "    total_number_of_iterations = 0\n",
    "    iterations_without_improvement = 0\n",
    "    optimal_objective_function_value = starting_obj_func_val\n",
    "    operating_solution = copy.deepcopy(starting_solution)\n",
    "    operating_order = copy.deepcopy(order)\n",
    "\n",
    "    plt.rc('font', family='serif')\n",
    "    fig, ax = plt.subplots(figsize=(28, 12))\n",
    "    camera = Camera(fig)\n",
    "\n",
    "    for stage in range(stages):\n",
    "\n",
    "        T *= alpha \n",
    "\n",
    "        for epoch in range(epochs):\n",
    "\n",
    "            can_do_first_option = True\n",
    "            do_we_take_solution = False\n",
    "\n",
    "            for machine in starting_solution:\n",
    "                if len(machine) == number_of_tasks:\n",
    "                    can_do_first_option = False\n",
    "\n",
    "            if total_number_of_iterations % 2 == 0 and can_do_first_option:\n",
    "\n",
    "                chosen_from_first_machine = False\n",
    "                chosen_from_second_machine = False\n",
    "\n",
    "                while not chosen_from_first_machine:\n",
    "                            \n",
    "                    index_of_chosen_first_machine = np.random.randint(0, len(operating_solution))\n",
    "\n",
    "                    if len(operating_solution[index_of_chosen_first_machine]) > 0:\n",
    "\n",
    "                        index_of_job_from_first_machine = np.random.randint(0, len(operating_solution[index_of_chosen_first_machine]))\n",
    "                        job_from_first_machine = copy.deepcopy(operating_solution[index_of_chosen_first_machine][index_of_job_from_first_machine])\n",
    "                        task_number_from_first_machine = copy.deepcopy(operating_order[index_of_chosen_first_machine][index_of_job_from_first_machine])\n",
    "                        chosen_from_first_machine = True\n",
    "\n",
    "                        set_to_draw_from = set([i for i in range(len(operating_solution))]) - {index_of_chosen_first_machine}\n",
    "\n",
    "                        while not chosen_from_second_machine:\n",
    "\n",
    "                            index_of_chosen_second_machine = np.random.choice(list(set_to_draw_from))\n",
    "\n",
    "                            if len(operating_solution[index_of_chosen_second_machine]) > 0:\n",
    "\n",
    "                                index_of_job_from_second_machine = np.random.randint(0, len(operating_solution[index_of_chosen_second_machine]))\n",
    "                                job_from_second_machine = copy.deepcopy(operating_solution[index_of_chosen_second_machine][index_of_job_from_second_machine])\n",
    "                                task_number_from_second_machine = copy.deepcopy(operating_order[index_of_chosen_second_machine][index_of_job_from_second_machine])\n",
    "                                chosen_from_second_machine = True\n",
    "                                    \n",
    "                            else:\n",
    "                                continue\n",
    "\n",
    "                    else:\n",
    "                        continue\n",
    "\n",
    "                operating_solution[index_of_chosen_first_machine][index_of_job_from_first_machine] = job_from_second_machine\n",
    "                operating_solution[index_of_chosen_second_machine][index_of_job_from_second_machine] = job_from_first_machine\n",
    "\n",
    "                operating_order[index_of_chosen_first_machine][index_of_job_from_first_machine] = task_number_from_second_machine\n",
    "                operating_order[index_of_chosen_second_machine][index_of_job_from_second_machine] = task_number_from_first_machine\n",
    "\n",
    "                current_obj_func_value = counting_current_objective_function_value(operating_solution)\n",
    "\n",
    "                if current_obj_func_value < optimal_objective_function_value:\n",
    "                    do_we_take_solution = True\n",
    "\n",
    "                else:\n",
    "\n",
    "                    random_number = np.random.uniform(0, 1)\n",
    "                    exp_value = np.exp((optimal_objective_function_value - current_obj_func_value) / T)\n",
    "                    p = min([1, exp_value])\n",
    "\n",
    "                    if random_number < p:\n",
    "                        do_we_take_solution = True\n",
    "\n",
    "                if do_we_take_solution:\n",
    "\n",
    "                    starting_solution[index_of_chosen_first_machine][index_of_job_from_first_machine] = job_from_second_machine\n",
    "                    starting_solution[index_of_chosen_second_machine][index_of_job_from_second_machine] = job_from_first_machine\n",
    "\n",
    "                    order[index_of_chosen_first_machine][index_of_job_from_first_machine] = task_number_from_second_machine\n",
    "                    order[index_of_chosen_second_machine][index_of_job_from_second_machine] = task_number_from_first_machine\n",
    "                    optimal_objective_function_value = current_obj_func_value\n",
    "                    iterations_without_improvement = -1\n",
    "\n",
    "                operating_solution = copy.deepcopy(starting_solution)\n",
    "                operating_order = copy.deepcopy(order)\n",
    "\n",
    "            else:\n",
    "\n",
    "                chosen_from_machine = False\n",
    "\n",
    "                while not chosen_from_machine:\n",
    "                    index_of_chosen_machine_to_take_from = np.random.randint(0, len(operating_solution))\n",
    "\n",
    "                    if len(operating_solution[index_of_chosen_machine_to_take_from]) > 0:\n",
    "\n",
    "                        index_of_job_from_machine_to_take_from = np.random.randint(0, len(operating_solution[index_of_chosen_machine_to_take_from]))\n",
    "                        job_from_machine_to_take_from = copy.deepcopy((operating_solution[index_of_chosen_machine_to_take_from]).pop(index_of_job_from_machine_to_take_from))\n",
    "                        task_number_from_machine_to_take_from = copy.deepcopy((operating_order[index_of_chosen_machine_to_take_from]).pop(index_of_job_from_machine_to_take_from))\n",
    "                        chosen_from_machine = True\n",
    "\n",
    "                        set_of_machines_which_takes_the_task = set([i for i in range(len(operating_solution))]) - {index_of_chosen_machine_to_take_from}\n",
    "                        index_of_machine_which_takes_task = np.random.choice(list(set_of_machines_which_takes_the_task))\n",
    "                        operating_solution[index_of_machine_which_takes_task] += [job_from_machine_to_take_from]\n",
    "                        operating_order[index_of_machine_which_takes_task] += [task_number_from_machine_to_take_from]\n",
    "\n",
    "                        \n",
    "                    else:\n",
    "                        continue\n",
    "                \n",
    "\n",
    "                current_obj_func_value = counting_current_objective_function_value(operating_solution)\n",
    "\n",
    "                if current_obj_func_value < optimal_objective_function_value:\n",
    "                    do_we_take_solution = True\n",
    "\n",
    "                else:\n",
    "\n",
    "                    random_number = np.random.uniform(0, 1)\n",
    "                    exp_value = np.exp((optimal_objective_function_value - current_obj_func_value) / T)\n",
    "                    p = min([1, exp_value])\n",
    "\n",
    "                    if random_number < p:\n",
    "                        do_we_take_solution = True\n",
    "\n",
    "                if do_we_take_solution:\n",
    "\n",
    "                    starting_solution[index_of_machine_which_takes_task] += [job_from_machine_to_take_from]\n",
    "                    order[index_of_machine_which_takes_task] += [task_number_from_machine_to_take_from]\n",
    "                    del starting_solution[index_of_chosen_machine_to_take_from][index_of_job_from_machine_to_take_from]\n",
    "                    del order[index_of_chosen_machine_to_take_from][index_of_job_from_machine_to_take_from]\n",
    "\n",
    "                    optimal_objective_function_value = current_obj_func_value\n",
    "                    iterations_without_improvement = -1\n",
    "\n",
    "                operating_solution = copy.deepcopy(starting_solution)\n",
    "                operating_order = copy.deepcopy(order)\n",
    "\n",
    "            objective_function_values += [optimal_objective_function_value]\n",
    "            total_number_of_iterations += 1\n",
    "            iterations_without_improvement += 1\n",
    "\n",
    "            job_end_times = job_ending_times(starting_solution)\n",
    "  \n",
    "            make_span_visualization(job_end_times, order, total_number_of_iterations, fig, ax, camera)\n",
    "\n",
    "            if T == boundary_T:\n",
    "                animation = camera.animate()\n",
    "                animation.save('animation.mp4')\n",
    "                return order, starting_solution, optimal_objective_function_value, objective_function_values, total_number_of_iterations\n",
    "\n",
    "            if iterations_without_improvement == max_iterations_without_improvement:\n",
    "                animation = camera.animate()\n",
    "                animation.save('animation.mp4')\n",
    "                return order, starting_solution, optimal_objective_function_value, objective_function_values, total_number_of_iterations\n",
    "\n",
    "    animation = camera.animate()\n",
    "    animation.save('animation.mp4')\n",
    "    \n",
    "    return order, starting_solution, optimal_objective_function_value, objective_function_values, total_number_of_iterations"
   ]
  },
  {
   "cell_type": "code",
   "execution_count": 19,
   "metadata": {},
   "outputs": [
    {
     "data": {
      "image/png": "[encoded data removed]",
      "text/plain": [
       "<Figure size 2016x864 with 1 Axes>"
      ]
     },
     "metadata": {
      "needs_background": "light"
     },
     "output_type": "display_data"
    }
   ],
   "source": [
    "order_result, solution_result, objective_function_value_result, objective_function_values, total_number_of_iterations = generating_new_solution(starting_solution, order, starting_objective_function_value, T=50, alpha=0.9, epochs=5, stages=20, max_iterations_without_improvement=4, number_of_tasks=6)"
   ]
  },
  {
   "cell_type": "code",
   "execution_count": null,
   "metadata": {},
   "outputs": [],
   "source": [
    "plt.style.use('seaborn')\n",
    "fig, ax = plt.subplots(figsize = (20, 10))\n",
    "camera_2 = Camera(fig)\n",
    "i_s = []\n",
    "vals = []\n",
    "for i, value in enumerate(objective_function_values):\n",
    "    i_s += [i]\n",
    "    vals += [value]\n",
    "    ax.plot(i_s, vals, color='#FF7F50')\n",
    "    ax.set_title(\"Objective function value's history\", fontsize=30)\n",
    "    ax.set_xlabel('Number of iteration', fontsize=20)\n",
    "    ax.set_ylabel('Value', fontsize=20)\n",
    "    ax.set_xticks(np.linspace(0, total_number_of_iterations, 10))\n",
    "    ax.grid(True)\n",
    "    plt.tight_layout()\n",
    "\n",
    "    camera_2.snap()\n",
    "animation2 = camera_2.animate()\n",
    "animation2.save('animation_test.mp4')"
   ]
  },
  {
   "cell_type": "code",
   "execution_count": 21,
   "metadata": {},
   "outputs": [],
   "source": [
    "import plotly.express as px  # ........ conda install plotly \n",
    "import plotly.graph_objects as go\n",
    "from plotly.subplots import make_subplots"
   ]
  },
  {
   "cell_type": "code",
   "execution_count": 22,
   "metadata": {},
   "outputs": [
    {
     "data": {
      "application/vnd.plotly.v1+json": {
       "config": {
        "plotlyServerURL": "https://plot.ly"
       },
       "data": [
        {
         "mode": "lines",
         "type": "scatter",
         "xaxis": "x",
         "y": [
          146,
          146,
          136,
          138,
          138,
          119,
          120,
          138,
          130,
          130,
          130,
          134,
          134,
          128,
          125,
          137,
          141,
          128,
          130,
          130,
          144,
          144,
          142,
          152,
          143,
          143,
          143,
          115,
          118,
          118,
          119,
          119,
          119,
          118,
          124,
          113,
          113,
          113,
          116,
          110,
          110,
          110,
          110,
          110,
          110,
          124,
          124,
          140,
          140,
          121,
          121,
          117,
          117,
          125,
          125,
          125,
          125,
          125,
          125,
          130,
          132,
          132,
          119,
          119,
          116,
          116,
          129,
          129,
          124,
          124,
          124,
          114,
          114,
          114,
          127,
          122,
          122,
          122,
          122,
          122,
          122,
          124,
          124,
          104,
          104,
          104,
          96,
          96,
          96,
          96,
          96,
          96,
          96,
          98,
          100,
          97,
          97,
          97,
          103,
          103
         ],
         "yaxis": "y"
        }
       ],
       "layout": {
        "template": {
         "data": {
          "bar": [
           {
            "error_x": {
             "color": "#2a3f5f"
            },
            "error_y": {
             "color": "#2a3f5f"
            },
            "marker": {
             "line": {
              "color": "#E5ECF6",
              "width": 0.5
             },
             "pattern": {
              "fillmode": "overlay",
              "size": 10,
              "solidity": 0.2
             }
            },
            "type": "bar"
           }
          ],
          "barpolar": [
           {
            "marker": {
             "line": {
              "color": "#E5ECF6",
              "width": 0.5
             },
             "pattern": {
              "fillmode": "overlay",
              "size": 10,
              "solidity": 0.2
             }
            },
            "type": "barpolar"
           }
          ],
          "carpet": [
           {
            "aaxis": {
             "endlinecolor": "#2a3f5f",
             "gridcolor": "white",
             "linecolor": "white",
             "minorgridcolor": "white",
             "startlinecolor": "#2a3f5f"
            },
            "baxis": {
             "endlinecolor": "#2a3f5f",
             "gridcolor": "white",
             "linecolor": "white",
             "minorgridcolor": "white",
             "startlinecolor": "#2a3f5f"
            },
            "type": "carpet"
           }
          ],
          "choropleth": [
           {
            "colorbar": {
             "outlinewidth": 0,
             "ticks": ""
            },
            "type": "choropleth"
           }
          ],
          "contour": [
           {
            "colorbar": {
             "outlinewidth": 0,
             "ticks": ""
            },
            "colorscale": [
             [
              0,
              "#0d0887"
             ],
             [
              0.1111111111111111,
              "#46039f"
             ],
             [
              0.2222222222222222,
              "#7201a8"
             ],
             [
              0.3333333333333333,
              "#9c179e"
             ],
             [
              0.4444444444444444,
              "#bd3786"
             ],
             [
              0.5555555555555556,
              "#d8576b"
             ],
             [
              0.6666666666666666,
              "#ed7953"
             ],
             [
              0.7777777777777778,
              "#fb9f3a"
             ],
             [
              0.8888888888888888,
              "#fdca26"
             ],
             [
              1,
              "#f0f921"
             ]
            ],
            "type": "contour"
           }
          ],
          "contourcarpet": [
           {
            "colorbar": {
             "outlinewidth": 0,
             "ticks": ""
            },
            "type": "contourcarpet"
           }
          ],
          "heatmap": [
           {
            "colorbar": {
             "outlinewidth": 0,
             "ticks": ""
            },
            "colorscale": [
             [
              0,
              "#0d0887"
             ],
             [
              0.1111111111111111,
              "#46039f"
             ],
             [
              0.2222222222222222,
              "#7201a8"
             ],
             [
              0.3333333333333333,
              "#9c179e"
             ],
             [
              0.4444444444444444,
              "#bd3786"
             ],
             [
              0.5555555555555556,
              "#d8576b"
             ],
             [
              0.6666666666666666,
              "#ed7953"
             ],
             [
              0.7777777777777778,
              "#fb9f3a"
             ],
             [
              0.8888888888888888,
              "#fdca26"
             ],
             [
              1,
              "#f0f921"
             ]
            ],
            "type": "heatmap"
           }
          ],
          "heatmapgl": [
           {
            "colorbar": {
             "outlinewidth": 0,
             "ticks": ""
            },
            "colorscale": [
             [
              0,
              "#0d0887"
             ],
             [
              0.1111111111111111,
              "#46039f"
             ],
             [
              0.2222222222222222,
              "#7201a8"
             ],
             [
              0.3333333333333333,
              "#9c179e"
             ],
             [
              0.4444444444444444,
              "#bd3786"
             ],
             [
              0.5555555555555556,
              "#d8576b"
             ],
             [
              0.6666666666666666,
              "#ed7953"
             ],
             [
              0.7777777777777778,
              "#fb9f3a"
             ],
             [
              0.8888888888888888,
              "#fdca26"
             ],
             [
              1,
              "#f0f921"
             ]
            ],
            "type": "heatmapgl"
           }
          ],
          "histogram": [
           {
            "marker": {
             "pattern": {
              "fillmode": "overlay",
              "size": 10,
              "solidity": 0.2
             }
            },
            "type": "histogram"
           }
          ],
          "histogram2d": [
           {
            "colorbar": {
             "outlinewidth": 0,
             "ticks": ""
            },
            "colorscale": [
             [
              0,
              "#0d0887"
             ],
             [
              0.1111111111111111,
              "#46039f"
             ],
             [
              0.2222222222222222,
              "#7201a8"
             ],
             [
              0.3333333333333333,
              "#9c179e"
             ],
             [
              0.4444444444444444,
              "#bd3786"
             ],
             [
              0.5555555555555556,
              "#d8576b"
             ],
             [
              0.6666666666666666,
              "#ed7953"
             ],
             [
              0.7777777777777778,
              "#fb9f3a"
             ],
             [
              0.8888888888888888,
              "#fdca26"
             ],
             [
              1,
              "#f0f921"
             ]
            ],
            "type": "histogram2d"
           }
          ],
          "histogram2dcontour": [
           {
            "colorbar": {
             "outlinewidth": 0,
             "ticks": ""
            },
            "colorscale": [
             [
              0,
              "#0d0887"
             ],
             [
              0.1111111111111111,
              "#46039f"
             ],
             [
              0.2222222222222222,
              "#7201a8"
             ],
             [
              0.3333333333333333,
              "#9c179e"
             ],
             [
              0.4444444444444444,
              "#bd3786"
             ],
             [
              0.5555555555555556,
              "#d8576b"
             ],
             [
              0.6666666666666666,
              "#ed7953"
             ],
             [
              0.7777777777777778,
              "#fb9f3a"
             ],
             [
              0.8888888888888888,
              "#fdca26"
             ],
             [
              1,
              "#f0f921"
             ]
            ],
            "type": "histogram2dcontour"
           }
          ],
          "mesh3d": [
           {
            "colorbar": {
             "outlinewidth": 0,
             "ticks": ""
            },
            "type": "mesh3d"
           }
          ],
          "parcoords": [
           {
            "line": {
             "colorbar": {
              "outlinewidth": 0,
              "ticks": ""
             }
            },
            "type": "parcoords"
           }
          ],
          "pie": [
           {
            "automargin": true,
            "type": "pie"
           }
          ],
          "scatter": [
           {
            "fillpattern": {
             "fillmode": "overlay",
             "size": 10,
             "solidity": 0.2
            },
            "type": "scatter"
           }
          ],
          "scatter3d": [
           {
            "line": {
             "colorbar": {
              "outlinewidth": 0,
              "ticks": ""
             }
            },
            "marker": {
             "colorbar": {
              "outlinewidth": 0,
              "ticks": ""
             }
            },
            "type": "scatter3d"
           }
          ],
          "scattercarpet": [
           {
            "marker": {
             "colorbar": {
              "outlinewidth": 0,
              "ticks": ""
             }
            },
            "type": "scattercarpet"
           }
          ],
          "scattergeo": [
           {
            "marker": {
             "colorbar": {
              "outlinewidth": 0,
              "ticks": ""
             }
            },
            "type": "scattergeo"
           }
          ],
          "scattergl": [
           {
            "marker": {
             "colorbar": {
              "outlinewidth": 0,
              "ticks": ""
             }
            },
            "type": "scattergl"
           }
          ],
          "scattermapbox": [
           {
            "marker": {
             "colorbar": {
              "outlinewidth": 0,
              "ticks": ""
             }
            },
            "type": "scattermapbox"
           }
          ],
          "scatterpolar": [
           {
            "marker": {
             "colorbar": {
              "outlinewidth": 0,
              "ticks": ""
             }
            },
            "type": "scatterpolar"
           }
          ],
          "scatterpolargl": [
           {
            "marker": {
             "colorbar": {
              "outlinewidth": 0,
              "ticks": ""
             }
            },
            "type": "scatterpolargl"
           }
          ],
          "scatterternary": [
           {
            "marker": {
             "colorbar": {
              "outlinewidth": 0,
              "ticks": ""
             }
            },
            "type": "scatterternary"
           }
          ],
          "surface": [
           {
            "colorbar": {
             "outlinewidth": 0,
             "ticks": ""
            },
            "colorscale": [
             [
              0,
              "#0d0887"
             ],
             [
              0.1111111111111111,
              "#46039f"
             ],
             [
              0.2222222222222222,
              "#7201a8"
             ],
             [
              0.3333333333333333,
              "#9c179e"
             ],
             [
              0.4444444444444444,
              "#bd3786"
             ],
             [
              0.5555555555555556,
              "#d8576b"
             ],
             [
              0.6666666666666666,
              "#ed7953"
             ],
             [
              0.7777777777777778,
              "#fb9f3a"
             ],
             [
              0.8888888888888888,
              "#fdca26"
             ],
             [
              1,
              "#f0f921"
             ]
            ],
            "type": "surface"
           }
          ],
          "table": [
           {
            "cells": {
             "fill": {
              "color": "#EBF0F8"
             },
             "line": {
              "color": "white"
             }
            },
            "header": {
             "fill": {
              "color": "#C8D4E3"
             },
             "line": {
              "color": "white"
             }
            },
            "type": "table"
           }
          ]
         },
         "layout": {
          "annotationdefaults": {
           "arrowcolor": "#2a3f5f",
           "arrowhead": 0,
           "arrowwidth": 1
          },
          "autotypenumbers": "strict",
          "coloraxis": {
           "colorbar": {
            "outlinewidth": 0,
            "ticks": ""
           }
          },
          "colorscale": {
           "diverging": [
            [
             0,
             "#8e0152"
            ],
            [
             0.1,
             "#c51b7d"
            ],
            [
             0.2,
             "#de77ae"
            ],
            [
             0.3,
             "#f1b6da"
            ],
            [
             0.4,
             "#fde0ef"
            ],
            [
             0.5,
             "#f7f7f7"
            ],
            [
             0.6,
             "#e6f5d0"
            ],
            [
             0.7,
             "#b8e186"
            ],
            [
             0.8,
             "#7fbc41"
            ],
            [
             0.9,
             "#4d9221"
            ],
            [
             1,
             "#276419"
            ]
           ],
           "sequential": [
            [
             0,
             "#0d0887"
            ],
            [
             0.1111111111111111,
             "#46039f"
            ],
            [
             0.2222222222222222,
             "#7201a8"
            ],
            [
             0.3333333333333333,
             "#9c179e"
            ],
            [
             0.4444444444444444,
             "#bd3786"
            ],
            [
             0.5555555555555556,
             "#d8576b"
            ],
            [
             0.6666666666666666,
             "#ed7953"
            ],
            [
             0.7777777777777778,
             "#fb9f3a"
            ],
            [
             0.8888888888888888,
             "#fdca26"
            ],
            [
             1,
             "#f0f921"
            ]
           ],
           "sequentialminus": [
            [
             0,
             "#0d0887"
            ],
            [
             0.1111111111111111,
             "#46039f"
            ],
            [
             0.2222222222222222,
             "#7201a8"
            ],
            [
             0.3333333333333333,
             "#9c179e"
            ],
            [
             0.4444444444444444,
             "#bd3786"
            ],
            [
             0.5555555555555556,
             "#d8576b"
            ],
            [
             0.6666666666666666,
             "#ed7953"
            ],
            [
             0.7777777777777778,
             "#fb9f3a"
            ],
            [
             0.8888888888888888,
             "#fdca26"
            ],
            [
             1,
             "#f0f921"
            ]
           ]
          },
          "colorway": [
           "#636efa",
           "#EF553B",
           "#00cc96",
           "#ab63fa",
           "#FFA15A",
           "#19d3f3",
           "#FF6692",
           "#B6E880",
           "#FF97FF",
           "#FECB52"
          ],
          "font": {
           "color": "#2a3f5f"
          },
          "geo": {
           "bgcolor": "white",
           "lakecolor": "white",
           "landcolor": "#E5ECF6",
           "showlakes": true,
           "showland": true,
           "subunitcolor": "white"
          },
          "hoverlabel": {
           "align": "left"
          },
          "hovermode": "closest",
          "mapbox": {
           "style": "light"
          },
          "paper_bgcolor": "white",
          "plot_bgcolor": "#E5ECF6",
          "polar": {
           "angularaxis": {
            "gridcolor": "white",
            "linecolor": "white",
            "ticks": ""
           },
           "bgcolor": "#E5ECF6",
           "radialaxis": {
            "gridcolor": "white",
            "linecolor": "white",
            "ticks": ""
           }
          },
          "scene": {
           "xaxis": {
            "backgroundcolor": "#E5ECF6",
            "gridcolor": "white",
            "gridwidth": 2,
            "linecolor": "white",
            "showbackground": true,
            "ticks": "",
            "zerolinecolor": "white"
           },
           "yaxis": {
            "backgroundcolor": "#E5ECF6",
            "gridcolor": "white",
            "gridwidth": 2,
            "linecolor": "white",
            "showbackground": true,
            "ticks": "",
            "zerolinecolor": "white"
           },
           "zaxis": {
            "backgroundcolor": "#E5ECF6",
            "gridcolor": "white",
            "gridwidth": 2,
            "linecolor": "white",
            "showbackground": true,
            "ticks": "",
            "zerolinecolor": "white"
           }
          },
          "shapedefaults": {
           "line": {
            "color": "#2a3f5f"
           }
          },
          "ternary": {
           "aaxis": {
            "gridcolor": "white",
            "linecolor": "white",
            "ticks": ""
           },
           "baxis": {
            "gridcolor": "white",
            "linecolor": "white",
            "ticks": ""
           },
           "bgcolor": "#E5ECF6",
           "caxis": {
            "gridcolor": "white",
            "linecolor": "white",
            "ticks": ""
           }
          },
          "title": {
           "x": 0.05
          },
          "xaxis": {
           "automargin": true,
           "gridcolor": "white",
           "linecolor": "white",
           "ticks": "",
           "title": {
            "standoff": 15
           },
           "zerolinecolor": "white",
           "zerolinewidth": 2
          },
          "yaxis": {
           "automargin": true,
           "gridcolor": "white",
           "linecolor": "white",
           "ticks": "",
           "title": {
            "standoff": 15
           },
           "zerolinecolor": "white",
           "zerolinewidth": 2
          }
         }
        },
        "xaxis": {
         "anchor": "y",
         "domain": [
          0,
          1
         ]
        },
        "yaxis": {
         "anchor": "x",
         "domain": [
          0,
          1
         ]
        }
       }
      }
     },
     "metadata": {},
     "output_type": "display_data"
    }
   ],
   "source": [
    "fig = make_subplots(rows=1, cols=1)\n",
    "\n",
    "fig.add_trace(go.Scatter(y=objective_function_values, mode=\"lines\"), row=1, col=1)\n",
    "\n",
    "fig.show()"
   ]
  }
 ],
 "metadata": {
  "interpreter": {
   "hash": "872ff24540955541253eb47859e8c19459904f9d0bb391594f1de5ba23d27ccd"
  },
  "kernelspec": {
   "display_name": "Python 3.9.7 ('base')",
   "language": "python",
   "name": "python3"
  },
  "language_info": {
   "codemirror_mode": {
    "name": "ipython",
    "version": 3
   },
   "file_extension": ".py",
   "mimetype": "text/x-python",
   "name": "python",
   "nbconvert_exporter": "python",
   "pygments_lexer": "ipython3",
   "version": "3.9.7"
  },
  "orig_nbformat": 4
 },
 "nbformat": 4,
 "nbformat_minor": 2
}
